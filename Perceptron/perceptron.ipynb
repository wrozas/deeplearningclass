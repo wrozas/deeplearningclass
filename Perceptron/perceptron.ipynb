{
  "nbformat": 4,
  "nbformat_minor": 0,
  "metadata": {
    "colab": {
      "name": "perceptron.ipynb",
      "provenance": [],
      "collapsed_sections": [],
      "include_colab_link": true
    },
    "kernelspec": {
      "name": "python3",
      "display_name": "Python 3"
    }
  },
  "cells": [
    {
      "cell_type": "markdown",
      "metadata": {
        "id": "view-in-github",
        "colab_type": "text"
      },
      "source": [
        "<a href=\"https://colab.research.google.com/github/wrozas/deeplearningclass/blob/master/Perceptron/perceptron.ipynb\" target=\"_parent\"><img src=\"https://colab.research.google.com/assets/colab-badge.svg\" alt=\"Open In Colab\"/></a>"
      ]
    },
    {
      "cell_type": "markdown",
      "metadata": {
        "id": "b77qOMhq_5iE"
      },
      "source": [
        "# Perceptrón\n",
        "\n",
        "El primer paso de nuestra implementación es importar las librerías necesarias, Numpy y matplotlib"
      ]
    },
    {
      "cell_type": "code",
      "metadata": {
        "id": "T-MkCVI-_vFJ"
      },
      "source": [
        "import numpy as np\n",
        "import matplotlib.pyplot as plt"
      ],
      "execution_count": null,
      "outputs": []
    },
    {
      "cell_type": "markdown",
      "metadata": {
        "id": "RtyIKGW0_3vl"
      },
      "source": [
        "Ahora vamos a crear la clase perceptrón, y cuya explicación a cada uno de sus métodos lo podrás encontrar en el [blog](https://bryanmed.github.io/perceptron/)"
      ]
    },
    {
      "cell_type": "code",
      "metadata": {
        "id": "N4BheILC_yrv"
      },
      "source": [
        "class Perceptron:\n",
        "\n",
        "    def __init__(self, num_inputs, lr, epochs, pesos=None):\n",
        "        if pesos:\n",
        "            self.weights = pesos # en caso de contar con pesos del perceptron cargarlos\n",
        "        else:\n",
        "            self.weights = np.random.rand(num_inputs+1) # el peso extra es el bias\n",
        "            \n",
        "        self.lr = lr #learning rate\n",
        "        self.epochs = epochs #num de iteraciones\n",
        "\n",
        "    def act_fn(self, x, funcion='step'):\n",
        "        \"\"\"función de activación \"\"\"\n",
        "        if funcion == 'step':    \n",
        "            return np.where(x>0, 1, 0)\n",
        "        if funcion == 'sigmoid':\n",
        "            return 1/(1 + np.exp(-x)) \n",
        "        if funcion == 'relu':\n",
        "            return np.where(x>0, x, 0)\n",
        "        if funcion == 'tanh':\n",
        "            return (np.exp(x) - np.exp(-x))/(np.exp(x) + np.exp(-x))\n",
        "\n",
        "\n",
        "    def predict(self, inputs):\n",
        "        \"\"\"feedforward del perceptron\"\"\"\n",
        "        return self.act_fn(np.dot(inputs, self.weights[1:]) + self.weights[0])\n",
        "\n",
        "    def train(self, in_train, clases, verbose=False):\n",
        "        \"\"\"entrenamiento del perceptron\"\"\"\n",
        "        errores = []\n",
        "        for _ in range(self.epochs):\n",
        "            e = 0\n",
        "            for entrada, clase in zip(in_train, clases):\n",
        "                prediccion = self.predict(entrada)\n",
        "                error = clase - prediccion\n",
        "                self.weights[0] += self.lr * error\n",
        "                self.weights[1:] += self.lr * error * entrada\n",
        "            \n",
        "                e += np.abs(error)   \n",
        "            errores.append(e)\n",
        "        \n",
        "        if verbose:\n",
        "            plt.figure(), plt.plot(errores), plt.title('errores'), plt.show()\n",
        "                  \n",
        "    def get_weights(self):\n",
        "        \"\"\"recupero los pesos de la red, útil para no volver a entrenar\"\"\"\n",
        "        return self.weights"
      ],
      "execution_count": null,
      "outputs": []
    },
    {
      "cell_type": "markdown",
      "metadata": {
        "id": "o7F9ZhnMBUGX"
      },
      "source": [
        "La tarea que le encomendaremos al perceptrón que aprenda a realizar el que se comporte como una compuerta lógica AND, la cual es:\n",
        "\n",
        "| $x_1$  | $x_2$  |   $y$|\n",
        "| ------ |:------:| -:|\n",
        "| 0      | 0      | 0 |\n",
        "| 0      | 1      | 0 |\n",
        "| 1      | 0      | 0 |\n",
        "| 1      | 1      | 1 |"
      ]
    },
    {
      "cell_type": "markdown",
      "metadata": {
        "id": "t2Y9xqCyA0Ra"
      },
      "source": [
        "Lo primero será crear las variables que me representen esta tabla (entradas $x_1, x_2$, salida $y$)"
      ]
    },
    {
      "cell_type": "code",
      "metadata": {
        "id": "4EKyDrPIAxpX",
        "colab": {
          "base_uri": "https://localhost:8080/",
          "height": 86
        },
        "outputId": "ebaae783-f03a-4749-ba23-8c66ac9d9b34"
      },
      "source": [
        "x = np.array([[0,0], [0,1], [1,0], [1,1]])\n",
        "y = np.array([0, 0, 0, 1])\n",
        "\n",
        "print(x, y)"
      ],
      "execution_count": null,
      "outputs": [
        {
          "output_type": "stream",
          "text": [
            "[[0 0]\n",
            " [0 1]\n",
            " [1 0]\n",
            " [1 1]] [0 0 0 1]\n"
          ],
          "name": "stdout"
        }
      ]
    },
    {
      "cell_type": "markdown",
      "metadata": {
        "id": "uLeR3UJMAzfg"
      },
      "source": [
        "\n",
        "Ahora vamos a inicializar un objeto de la clase `Perceptron` al que llamaremos \"perci\", para ello necesitamos indicarle el número de entradas que en este caso son 2 (correspondientes a las entradas de la tabla AND) , el learning rate y el número de épocas."
      ]
    },
    {
      "cell_type": "code",
      "metadata": {
        "id": "OsIKMgojnjOI"
      },
      "source": [
        "perci = Perceptron(num_inputs=2, lr=0.2, epochs=10)"
      ],
      "execution_count": null,
      "outputs": []
    },
    {
      "cell_type": "markdown",
      "metadata": {
        "id": "kzqdrJW7n33H"
      },
      "source": [
        "Como un pequeño ejercicio, veamos el comportamiento de las distintas funciones de activación. Para ello vamos a crear un vector $t$ que será una ventana de tiempo con valores de -1 a 1. Y accederemos al método de `act_fn` para evaluar las distintas funciones de activacion sobre la ventana de tiempo."
      ]
    },
    {
      "cell_type": "code",
      "metadata": {
        "id": "Kx26rHcjnzDZ",
        "colab": {
          "base_uri": "https://localhost:8080/",
          "height": 281
        },
        "outputId": "d32c15a7-4d1d-4b30-b885-63c6b44048ad"
      },
      "source": [
        "t = np.arange(-3, 3, 0.01) #creamos un vector de -1 a 1\n",
        "\n",
        "#evaluamos y graficamos este vector con las distintas funciones de activación para ver su comportamiento\n",
        "plt.figure()\n",
        "plt.subplot(221), plt.plot(t, perci.act_fn(t, 'step')), plt.title('step')\n",
        "plt.subplot(222), plt.plot(t, perci.act_fn(t, 'sigmoid')), plt.title('sigmoid')\n",
        "plt.subplot(223), plt.plot(t, perci.act_fn(t, 'relu')), plt.title('relu')\n",
        "plt.subplot(224), plt.plot(t, perci.act_fn(t, 'tanh')), plt.title('tanh')\n",
        "plt.show()\n"
      ],
      "execution_count": null,
      "outputs": [
        {
          "output_type": "display_data",
          "data": {
            "image/png": "[encoded data removed]",
            "text/plain": [
              "<Figure size 432x288 with 4 Axes>"
            ]
          },
          "metadata": {
            "tags": []
          }
        }
      ]
    },
    {
      "cell_type": "markdown",
      "metadata": {
        "id": "o_nNIIyMt2iN"
      },
      "source": [
        "Vamos a corroborar el bias y pesos del perceptrón, los cuales han sido inicializados de manera aleatoria. En donde el primer elemento del array corresponde al bias y los demás a los pesos"
      ]
    },
    {
      "cell_type": "code",
      "metadata": {
        "id": "ZfB3BHx9pIZh",
        "colab": {
          "base_uri": "https://localhost:8080/",
          "height": 34
        },
        "outputId": "3a76f28d-4420-4a30-b68f-ae23d126b999"
      },
      "source": [
        "print(perci.get_weights())"
      ],
      "execution_count": null,
      "outputs": [
        {
          "output_type": "stream",
          "text": [
            "[0.10334362 0.65672912 0.15160198]\n"
          ],
          "name": "stdout"
        }
      ]
    },
    {
      "cell_type": "markdown",
      "metadata": {
        "id": "BaPEH_eNvh3n"
      },
      "source": [
        "Vamos a realizar una predicción de estos valores"
      ]
    },
    {
      "cell_type": "code",
      "metadata": {
        "id": "HDvECXl4uKCa",
        "colab": {
          "base_uri": "https://localhost:8080/",
          "height": 86
        },
        "outputId": "78cf19e6-421e-4fba-c324-0a65810c1cab"
      },
      "source": [
        "for entradas, label in zip(x, y):\n",
        "  prediccion = perci.predict(entradas)\n",
        "\n",
        "  print('entradas:', entradas, ' esperado:', label, ' predicción:', prediccion)"
      ],
      "execution_count": null,
      "outputs": [
        {
          "output_type": "stream",
          "text": [
            "entradas: [0 0]  esperado: 0  predicción: 1\n",
            "entradas: [0 1]  esperado: 0  predicción: 1\n",
            "entradas: [1 0]  esperado: 0  predicción: 1\n",
            "entradas: [1 1]  esperado: 1  predicción: 1\n"
          ],
          "name": "stdout"
        }
      ]
    },
    {
      "cell_type": "markdown",
      "metadata": {
        "id": "uZ014iudwZRs"
      },
      "source": [
        "Como podemos ver, las predicciones son una desastre! y eso es porque no hemos entrenado la red, así que a ello!"
      ]
    },
    {
      "cell_type": "code",
      "metadata": {
        "id": "1Vmq0qsHwL1E",
        "colab": {
          "base_uri": "https://localhost:8080/",
          "height": 281
        },
        "outputId": "bdd0011a-7829-4b97-e3a3-aeab2f96d35f"
      },
      "source": [
        "perci.train(x, y, True)"
      ],
      "execution_count": null,
      "outputs": [
        {
          "output_type": "display_data",
          "data": {
            "image/png": "[encoded data removed]",
            "text/plain": [
              "<Figure size 432x288 with 1 Axes>"
            ]
          },
          "metadata": {
            "tags": []
          }
        }
      ]
    },
    {
      "cell_type": "markdown",
      "metadata": {
        "id": "vbj69d7BxGC5"
      },
      "source": [
        "En el gráfico de errores observamos las equivocaciones de la red, hasta que convergió, es decir, que tiene cero errores. Ahora veamos como predice el pequeño perceptrón ya que está entrenada."
      ]
    },
    {
      "cell_type": "code",
      "metadata": {
        "id": "zYiTqmV6xAud",
        "colab": {
          "base_uri": "https://localhost:8080/",
          "height": 86
        },
        "outputId": "3e1e2ea9-c6c1-4746-aba2-13f4103b20e7"
      },
      "source": [
        "for entradas, label in zip(x, y):\n",
        "  prediccion = perci.predict(entradas)\n",
        "\n",
        "  print('entradas:', entradas, ' esperado:', label, ' predicción:', prediccion)"
      ],
      "execution_count": null,
      "outputs": [
        {
          "output_type": "stream",
          "text": [
            "entradas: [0 0]  esperado: 0  predicción: 0\n",
            "entradas: [0 1]  esperado: 0  predicción: 0\n",
            "entradas: [1 0]  esperado: 0  predicción: 0\n",
            "entradas: [1 1]  esperado: 1  predicción: 1\n"
          ],
          "name": "stdout"
        }
      ]
    },
    {
      "cell_type": "markdown",
      "metadata": {
        "id": "W5UtOCiHx1SP"
      },
      "source": [
        "Success! Ahora vamos a quedarnos con los pesos de la red entrenada para así evitar volver a entrenarlo la siguiente vez que lo utilicemos. "
      ]
    },
    {
      "cell_type": "code",
      "metadata": {
        "id": "3CPd7-Q-xzfb",
        "colab": {
          "base_uri": "https://localhost:8080/",
          "height": 34
        },
        "outputId": "57939c01-f9e4-4919-9aec-1c518afe8d01"
      },
      "source": [
        "perci.get_weights()"
      ],
      "execution_count": null,
      "outputs": [
        {
          "output_type": "execute_result",
          "data": {
            "text/plain": [
              "array([-0.49665638,  0.45672912,  0.15160198])"
            ]
          },
          "metadata": {
            "tags": []
          },
          "execution_count": 10
        }
      ]
    },
    {
      "cell_type": "code",
      "metadata": {
        "id": "HBeiliNYyPeF",
        "colab": {
          "base_uri": "https://localhost:8080/",
          "height": 104
        },
        "outputId": "1353dc97-0874-41cb-b3ba-83bf7d494cb2"
      },
      "source": [
        "pesos = [-0.49665638,  0.45672912,  0.15160198]\n",
        "\n",
        "perci2 = Perceptron(2, 0.2, 0, pesos=pesos)\n",
        "\n",
        "print('pesos del perceptron: ', perci2.get_weights())\n",
        "\n",
        "for entradas, label in zip(x, y):\n",
        "  prediccion = perci2.predict(entradas)\n",
        "\n",
        "  print('entradas:', entradas, ' esperado:', label, ' predicción:', prediccion)\n"
      ],
      "execution_count": null,
      "outputs": [
        {
          "output_type": "stream",
          "text": [
            "pesos del perceptron:  [-0.52277647, 0.40730554, 0.26750093]\n",
            "entradas: [0 0]  esperado: 0  predicción: 0\n",
            "entradas: [0 1]  esperado: 0  predicción: 0\n",
            "entradas: [1 0]  esperado: 0  predicción: 0\n",
            "entradas: [1 1]  esperado: 1  predicción: 1\n"
          ],
          "name": "stdout"
        }
      ]
    },
    {
      "cell_type": "code",
      "metadata": {
        "id": "PQs15dcayn56"
      },
      "source": [
        ""
      ],
      "execution_count": null,
      "outputs": []
    }
  ]
}